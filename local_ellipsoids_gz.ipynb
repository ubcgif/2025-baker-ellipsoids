{
 "cells": [
  {
   "cell_type": "code",
   "execution_count": 42,
   "id": "3881ea74-2491-47ab-9305-327c5a9d6004",
   "metadata": {},
   "outputs": [],
   "source": [
    "# imports\n",
    "import numpy as np \n",
    "from scipy.special import ellipkinc, ellipeinc "
   ]
  },
  {
   "cell_type": "markdown",
   "id": "4a91520d-cae1-4a30-a631-46869aa48a2c",
   "metadata": {},
   "source": [
    "### Code for obtaining z component of gravity for the oblate ellipsoid. \n",
    "\n",
    "(the code needs) TO DO:\n",
    "\n",
    "- Takes variables: a, b, c, x, y, z\n",
    "    - a,b,c = ellipsoid parameters - for oblate ellispoid a < b = c\n",
    "    - x, y, z = observation points, LOCAL coordinate system\n",
    "        - make sure the nature of the x, y, z components is clear in docstring to avoid later confusion\n",
    "- Computes the lambda parameter,\n",
    "- Calculate z component gravity using GRAVMOD XIB equations from Clark et al. for oblate ellipsoids.\n",
    "- Perform some sort of casual check\n",
    "    - Eventually, will require a test.\n",
    "- Will return a single component\n",
    "    - A second definition to run this?\n",
    "    - How is it best to store it?\n",
    "    - Calculated within the definition? How complicated is too complicated for a function?"
   ]
  },
  {
   "cell_type": "code",
   "execution_count": 44,
   "id": "7513271c-00ca-4f0e-aa75-8c72c64cd7ed",
   "metadata": {},
   "outputs": [
    {
     "data": {
      "text/plain": [
       "<ufunc 'ellipkinc'>"
      ]
     },
     "execution_count": 44,
     "metadata": {},
     "output_type": "execute_result"
    }
   ],
   "source": []
  },
  {
   "cell_type": "code",
   "execution_count": 22,
   "id": "9e7ff000-cd21-4e6b-a762-c61cb17b82ab",
   "metadata": {},
   "outputs": [],
   "source": [
    "# variables\n",
    "\n",
    "# dealing with outside the body - x,y,z must be on or outside of the defined ellipse\n",
    "x = 10\n",
    "y = 10\n",
    "z = 10\n",
    "\n",
    "# semi axes values are given when testing the functions as are different for each case."
   ]
  },
  {
   "cell_type": "code",
   "execution_count": 33,
   "id": "62eca44b-ef28-490d-9c84-8c3eae8d2143",
   "metadata": {},
   "outputs": [],
   "source": [
    "def calculate_lambda(x, y, z, a, b, c): # takes semiaxes and observation coordinates\n",
    "    \n",
    "    \"\"\"\n",
    "    Calculate the value of lambda (parameter defining surfaces in confocal family,\n",
    "    colloquially, the inflation or deflation parameter), for given ellipsoid semiaxes\n",
    "    and given points of observation.\n",
    "    x, y, z are positions in the local co-ordinate system.\n",
    "    \n",
    "    Parameters\n",
    "    ----------\n",
    "    Semiaxes (length) (integer): a, b, c\n",
    "    Observation coordinates (integer): x, y, z\n",
    "\n",
    "\n",
    "    Returns\n",
    "    -------\n",
    "    lambda (float): the value of lambda.\n",
    "    \n",
    "    \"\"\"\n",
    "    # Calculate lambda using x, y, z \n",
    "\n",
    "    # Check that the input values of x, y, z are greater than a, b, c semi axis lengths\n",
    "    if not (np.abs(x) >= a or np.abs(y) >= b or np.abs(z) >= c):\n",
    "        raise ValueError(\n",
    "            f\"Location (x, y, z) should lie on or outside of semiaxes (a, b, c), \"\n",
    "            f\"but got x = {x}, y = {y}, z = {z}, and a = {a}, b = {b}, c = {c}\")\n",
    "\n",
    "    p_0 = a**2 * b**2 * c**2 - b**2 * c**2 * x**2 - a**2 * b**2 * z**2\n",
    "    p_1 = a**2 * b**2 + b**2 * c**2 + c**2 * a**2 - (b**2 + c**2) * x**2 - (c**2 + a**2) * y**2 - (a**2 + b**2) * z**2\n",
    "    p_2 = a**2 + b**2 + c**2 - x**2 - y**2 - z**2\n",
    "\n",
    "    p = p_1 - (p_2**2)/3 \n",
    "\n",
    "    q = p_0 - ((p_1*p_2)/3) + 2*(p_2/3)**3\n",
    "\n",
    "    theta = np.arccos(-q / (2 * np.sqrt((-p/3)**3))) \n",
    "    \n",
    "    lmbda = 2 * np.sqrt((-p/3)) * np.cos(theta/3) - p_2/3 \n",
    "\n",
    "    if not (lmbda > -c**2):\n",
    "        raise ValueError(f\"Lambda value is invalid: it should be true that lambda > -c**2,\"\n",
    "         f\"but instead lambda = {lmbda} and -c^2 = {-c**2}\")\n",
    "    \n",
    "\n",
    "    return lmbda"
   ]
  },
  {
   "cell_type": "code",
   "execution_count": 34,
   "id": "e04f7253-c064-43da-99ed-0ca6308fffc3",
   "metadata": {},
   "outputs": [
    {
     "name": "stdout",
     "output_type": "stream",
     "text": [
      "-3.552713678800501e-15\n"
     ]
    }
   ],
   "source": [
    "# test - calculate lambda function\n",
    "\n",
    "lambda_test = calculate_lambda(10, 0, 0, 10, 5, 5)\n",
    "print(lambda_test)"
   ]
  },
  {
   "cell_type": "code",
   "execution_count": 35,
   "id": "b6726500-ddb6-444f-8afd-11d6cdc87f6a",
   "metadata": {},
   "outputs": [],
   "source": [
    "def calculate_delta_gs_oblate(x, y, z, a, b, c, density): # takes semiaxes, lambda value, density\n",
    "    \n",
    "    \"\"\"\n",
    "    Calculate the components of delta_g_i for i=1,2,3, for the oblate ellipsoid case (a < b = c \n",
    "    Delta_g_i represent the local axes system (for now, the only axes system). \n",
    "    x, y, z are positions of observation in the local co-ordinate system.\n",
    "    \n",
    "    \n",
    "    Parameters\n",
    "    ----------\n",
    "    lambda (float): the parameter defining surfaces in confocal family, for an ellipsoid.\n",
    "    Observation coordinates (integer): x, y, z\n",
    "\n",
    "\n",
    "    Returns\n",
    "    -------\n",
    "    # is this the best way to do this? will individual delta_g components be used later? maybe just return delta_g_z??\n",
    "    \n",
    "    dg1 (float): change in gravity for the x axis. (is this the right explanation?)\n",
    "    dg2 (float): change in gravity for the y axis.\n",
    "    dg3 (float): change in gravity for the z axis.\n",
    "\n",
    "    \"\"\"\n",
    "    # constants\n",
    "    G = 6.6743e-11\n",
    "\n",
    "    # call and use lambda function \n",
    "    lmbda = calculate_lambda(x, y, z, a, b, c)\n",
    "    \n",
    "    # check the function is used for the correct type of ellipsoid\n",
    "    if not (a < b and b == c):\n",
    "        raise ValueError(f\"Invalid ellipsoid axis lengths for oblate ellipsoid:\" \n",
    "            f\"expected a < b = c but got a = {a}, b = {b}, c = {c}\")\n",
    "    \n",
    "    # compute the coefficient of the three delta_g equations \n",
    "    numerator = np.pi * a * b**2 * G * density\n",
    "    denominator = (b**2 - a**2)**1.5 \n",
    "    co_eff1 = numerator / denominator\n",
    "\n",
    "    # compute repeated arctan term\n",
    "    arc_tan_term = np.arctan(((b**2 - a**2) / (a**2 + lmbda))**0.5)\n",
    "    \n",
    "    # compute the terms within the brackets for delta_g 1,2,3\n",
    "    bracket_term_g1 = arc_tan_term - ((b**2 - a**2) / (a**2 + lmbda) )**0.5\n",
    "    \n",
    "    bracket_term_g2g3 = ((((b**2 - a**2) * (a**2 + lmbda))**0.5) / (b**2 + lmbda)) - arc_tan_term\n",
    "\n",
    "    # compile constants, coefficients, bracket terms to calculate final value of the delta_g terms\n",
    "    dg1 = 4 * co_eff1 * x * bracket_term_g1\n",
    "    dg2 = 2 * co_eff1 * y * bracket_term_g2g3\n",
    "    dg3 = 2 * co_eff1 * z * bracket_term_g2g3\n",
    "\n",
    "    return dg1, dg2, dg3"
   ]
  },
  {
   "cell_type": "code",
   "execution_count": 36,
   "id": "abb2fe59-052d-4a61-8f30-21e5f4c1a4f4",
   "metadata": {},
   "outputs": [
    {
     "name": "stdout",
     "output_type": "stream",
     "text": [
      "Vertical change in gravity for the oblate ellipsoid = -1.707957579205664e-08 mGal\n"
     ]
    }
   ],
   "source": [
    "# test - calculate oblate delta_g function\n",
    "\n",
    "dg1_ob, dg2_ob, dg3_ob = calculate_delta_gs_oblate(x, y, z, 2, 4, 4, density = 1000)\n",
    "print(f'Vertical change in gravity for the oblate ellipsoid = {dg3_ob}  m/s^2') \n",
    "\n",
    "# producing a result in m/s^2, upwards is positive "
   ]
  },
  {
   "cell_type": "code",
   "execution_count": 10,
   "id": "1dbc8f3a-3ece-4d73-9b90-83de3d9876b3",
   "metadata": {},
   "outputs": [],
   "source": [
    "def calculate_delta_gs_prolate(x, y, z, a, b, c, density): # takes semiaxes, lambda value, density\n",
    "    \n",
    "    \"\"\"\n",
    "    Calculate the components of delta_g_i for i=1,2,3, for the prolate ellipsoid case.\n",
    "    Delta_g_i represent the local axes system (for now, the only axes system). \n",
    "    x, y, z are positions of observation in the local co-ordinate system.\n",
    "    \n",
    "    Parameters\n",
    "    ----------\n",
    "    lambda (float): the parameter defining surfaces in confocal family, for an ellipsoid.\n",
    "    Observation coordinates (integer): x, y, z\n",
    "\n",
    "\n",
    "    Returns\n",
    "    -------\n",
    "    # is this the best way to do this? will individual delta_g components be used later? maybe just return delta_g_z??\n",
    "    \n",
    "    dg1 (float): change in gravity for the x axis. (is this the right explanation?)\n",
    "    dg2 (float): change in gravity for the y axis.\n",
    "    dg3 (float): change in gravity for the z axis.\n",
    "\n",
    "    \"\"\"\n",
    "    # constants\n",
    "    G = 6.6743e-11\n",
    "\n",
    "    # call and use lambda function \n",
    "    lmbda = calculate_lambda(x, y, z, a, b, c)\n",
    "    \n",
    "    # check the function is used for the correct type of ellipsoid\n",
    "    if not (a > b and b == c):\n",
    "        raise ValueError(f\"Invalid ellipsoid axis lengths for prolate ellipsoid: expected a > b = c but got a = {a}, b = {b}, c = {c}\")\n",
    "    \n",
    "    # compute the coefficient of the three delta_g equations \n",
    "    numerator = np.pi * a * b**2 * G * density\n",
    "    denominator = (a**2 - b**2)**1.5 \n",
    "    co_eff1 = numerator / denominator\n",
    "\n",
    "    # compute repeated log_e term\n",
    "    log_term = np.log(((a**2 - b**2)**0.5 + (a**2 + lmbda)**0.5)/ ((b**2 + lmbda)**0.5))\n",
    "\n",
    "    # compute repeated f_2 second term \n",
    "    f_2_term_2 = (((a**2 - b**2) * (a**2 + lmbda))**0.5)/(b**2 + lmbda)\n",
    "\n",
    "    # compile terms \n",
    "    dg1 = 4 * co_eff1 * x * (((a**2 - b**2)/(a**2 + lmbda))**0.5 - log_term)\n",
    "    dg2 = 2 * co_eff1 * y * (log_term - f_2_term_2) \n",
    "    dg3 = 2 * co_eff1 * z * (log_term - f_2_term_2) \n",
    "    \n",
    "    return dg1, dg2, dg3"
   ]
  },
  {
   "cell_type": "code",
   "execution_count": 40,
   "id": "2ed5382b-f8bf-4a42-8091-f37a18eb2afc",
   "metadata": {},
   "outputs": [
    {
     "name": "stdout",
     "output_type": "stream",
     "text": [
      "Vertical change in gravity for the prolate ellipsoid = -8.677627505176652e-09 m/s^2\n"
     ]
    }
   ],
   "source": [
    "# test - calculate prolate delta_g function\n",
    "\n",
    "dg1_pro, dg2_pro, dg3_pro = calculate_delta_gs_prolate(x, y, z, 4, 2, 2, density = 1000)\n",
    "print(f'Vertical change in gravity for the prolate ellipsoid = {dg3_pro} m/s^2') \n",
    "\n",
    "# producing a result in m/s^2, upwards is positive "
   ]
  },
  {
   "cell_type": "code",
   "execution_count": 47,
   "id": "106c5fc9-52c7-4073-98f6-893bd396bdcc",
   "metadata": {},
   "outputs": [],
   "source": [
    "def calculate_delta_gs_triaxial(x, y, z, a, b, c, density): # takes semiaxes, lambda value, density\n",
    "    \n",
    "    \"\"\"\n",
    "    Calculate the components of delta_g_i for i=1,2,3, for the triaxial ellipsoid case.\n",
    "    Delta_g_i represent the local axes system (for now, the only axes system). \n",
    "    x, y, z are positions of observation in the local co-ordinate system.\n",
    "    \n",
    "    Parameters\n",
    "    ----------\n",
    "    lambda (float): the parameter defining surfaces in confocal family, for an ellipsoid.\n",
    "    Observation coordinates (integer): x, y, z\n",
    "\n",
    "\n",
    "    Returns\n",
    "    -------\n",
    "    # is this the best way to do this? will individual delta_g components be used later? maybe just return delta_g_z??\n",
    "    \n",
    "    dg1 (float): change in gravity for the x axis. (is this the right explanation?)\n",
    "    dg2 (float): change in gravity for the y axis.\n",
    "    dg3 (float): change in gravity for the z axis.\n",
    "\n",
    "    \"\"\"\n",
    "    # constants\n",
    "    G = 6.6743e-11\n",
    "\n",
    "    # call and use lambda function \n",
    "    lmbda = calculate_lambda(x, y, z, a, b, c)\n",
    "    \n",
    "    # check the function is used for the correct type of ellipsoid\n",
    "    if not (a > b > c):\n",
    "        raise ValueError(f\"Invalid ellipsoid axis lengths for triaxial ellipsoid:\"\n",
    "            f\"expected a > b > c but got a = {a}, b = {b}, c = {c}\")\n",
    "    \n",
    "    # compute the coefficient of the three delta_g equations \n",
    "    co_eff = -2 * np.pi * a * b * c * G * density\n",
    "    k = np.sqrt((a**2 - b**2)/(a**2 - c**2))\n",
    "    theta_prime = np.arcsin(np.sqrt((a**2 - c**2)/(a**2 + lmbda))) # for theta in range (0 =< theta =< np.pi/2) - check how to code this??\n",
    "\n",
    "    # compute terms associated with A(lambda) \n",
    "    A_coeff = 2/((a**2 - b**2)*np.sqrt(a**2 - c**2))\n",
    "    A_elliptic_integral = ellipkinc(theta_prime, k)  - ellipeinc(theta_prime, k)\n",
    "    A_lmbda = A_coeff * A_elliptic_integral\n",
    "\n",
    "\n",
    "    # compute terms associated with B(lambda) \n",
    "    B_coeff = (2 * np.sqrt(a**2 - c**2)) / ((a**2 - b**2) * (b**2 - c**2))\n",
    "    B_fk_coeff = ((b**2 - c**2)/(a**2 - c**2))\n",
    "    B_fk_subtracted_term = (k**2 * np.sin(theta_prime) * np.cos(theta_prime)) / np.sqrt(1 - k**2 * np.sin(theta_prime)**2)\n",
    "    B_lmbda = B_coeff * (ellipeinc(theta_prime, k) - B_fk_coeff * ellipkinc(theta_prime, k) - B_fk_subtracted_term) # check this is right\n",
    "\n",
    "    # compute terms associated with C(lambda) \n",
    "    C_coeff = 2/((b**2 - c**2) * np.sqrt(a**2 - c**2))\n",
    "    C_ek_subtracted_term = (np.sin(theta_prime) * np.sqrt(1 - k**2 * np.sin(theta_prime)**2)) / np.cos(theta_prime) # check the brackets here ??\n",
    "    C_lmbda = C_coeff * (C_ek_subtracted_term - ellipeinc(theta_prime, k))\n",
    "\n",
    "    # compile all terms \n",
    "    dg1 = co_eff * x * A_lmbda\n",
    "    dg2 = co_eff * y * B_lmbda\n",
    "    dg3 = co_eff * z * C_lmbda\n",
    "    \n",
    "    return dg1, dg2, dg3"
   ]
  },
  {
   "cell_type": "code",
   "execution_count": 50,
   "id": "ef25f77d-32af-4bf4-97ee-1225ab6bb62f",
   "metadata": {},
   "outputs": [
    {
     "name": "stdout",
     "output_type": "stream",
     "text": [
      "Vertical change in gravity for the oblate ellipsoid = -3.2089720328076144e-08  m/s^2\n"
     ]
    }
   ],
   "source": [
    "# test - triaxial ellipsoid code:\n",
    "\n",
    "dg1_tri, dg2_tri, dg3_tri = calculate_delta_gs_triaxial(x, y, z, 6, 4, 2, density = 1000)\n",
    "print(f'Vertical change in gravity for the oblate ellipsoid = {dg3_tri}  m/s^2') \n",
    "\n",
    "# producing a result in m/s^2, upwards is positive "
   ]
  },
  {
   "cell_type": "code",
   "execution_count": null,
   "id": "f65942eb-71a0-4c6b-8fb7-b856a2810782",
   "metadata": {},
   "outputs": [],
   "source": []
  },
  {
   "cell_type": "code",
   "execution_count": null,
   "id": "6a83de63-6666-4cea-8c51-5599cf525951",
   "metadata": {},
   "outputs": [],
   "source": [
    "# not yet needed, but shell of final function to calculate the final component of gravity.\n",
    "\n",
    "def calculate_oblate_gz(x, y, z, a, b, c): # takes semiaxes and observation coordinates\n",
    "    \n",
    "    \"\"\"\n",
    "    Compute the gravity field at a single point,\n",
    "    given an oblate ellipsoid of uniform density.\n",
    "    \n",
    "    Parameters\n",
    "    ----------\n",
    "    Semiaxes (length) (integer): a, b, c\n",
    "    Observation coordinates (integer): x, y, z\n",
    "\n",
    "\n",
    "    Returns\n",
    "    -------\n",
    "    gz (float): vertical component of gravity, single value for a given 3D cooridnate system.\n",
    "    lambda: ? If needed.\n",
    "    \n",
    "    \"\"\"\n",
    "    # call lambda function and get result\n",
    "    lmbda = calculate_lambda(x, y, z, a, b, c)\n",
    "\n",
    "    # call calculate gz components function and get results\n",
    "    delta_z = dg1 * n1 + dg2 * n2 + dg3 * n3\n",
    "    \n",
    "    return gz"
   ]
  },
  {
   "cell_type": "markdown",
   "id": "b0f87202-77a7-4f08-ae51-35e69aaa1bbc",
   "metadata": {},
   "source": [
    "Questions for next meeting:\n",
    "\n",
    "Check triaxial equation - ok to use definitions given on page 195 of clark?\n",
    "C(lambda) brackets -- incorrect in the paper (how should they look)\n",
    "Coding for theta in range etc\n",
    "The B_lmabda term - brackets are confusing yet again\n",
    "\n"
   ]
  },
  {
   "cell_type": "code",
   "execution_count": null,
   "id": "1e9d5159-7fdf-4237-ba04-6ac68577b8bf",
   "metadata": {},
   "outputs": [],
   "source": []
  }
 ],
 "metadata": {
  "kernelspec": {
   "display_name": "Python 3 (ipykernel)",
   "language": "python",
   "name": "python3"
  },
  "language_info": {
   "codemirror_mode": {
    "name": "ipython",
    "version": 3
   },
   "file_extension": ".py",
   "mimetype": "text/x-python",
   "name": "python",
   "nbconvert_exporter": "python",
   "pygments_lexer": "ipython3",
   "version": "3.13.3"
  }
 },
 "nbformat": 4,
 "nbformat_minor": 5
}
