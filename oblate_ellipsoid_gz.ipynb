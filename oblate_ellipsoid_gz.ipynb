{
 "cells": [
  {
   "cell_type": "code",
   "execution_count": 3,
   "id": "3881ea74-2491-47ab-9305-327c5a9d6004",
   "metadata": {},
   "outputs": [],
   "source": [
    "# imports\n",
    "import numpy as np \n"
   ]
  },
  {
   "cell_type": "markdown",
   "id": "4a91520d-cae1-4a30-a631-46869aa48a2c",
   "metadata": {},
   "source": [
    "### Code for obtaining z component of gravity for the oblate ellipsoid. \n",
    "\n",
    "(the code needs) TO DO:\n",
    "\n",
    "- Takes variables: a, b, c, x, y, z\n",
    "    - a,b,c = ellipsoid parameters - for oblate ellispoid a < b = c\n",
    "    - x, y, z = observation points, LOCAL coordinate system\n",
    "        - make sure the nature of the x, y, z components is clear in docstring to avoid later confusion\n",
    "- Computes the lambda parameter,\n",
    "- Calculate z component gravity using GRAVMOD XIB equations from Clark et al. for oblate ellipsoids.\n",
    "- Perform some sort of casual check\n",
    "    - Eventually, will require a test.\n",
    "- Will return a single component\n",
    "    - A second definition to run this?\n",
    "    - How is it best to store it?\n",
    "    - Calculated within the definition? How complicated is too complicated for a function?"
   ]
  },
  {
   "cell_type": "code",
   "execution_count": 36,
   "id": "9e7ff000-cd21-4e6b-a762-c61cb17b82ab",
   "metadata": {},
   "outputs": [],
   "source": [
    "# variables\n",
    "\n",
    "# dealing with outside the body - x,y,z must be on or outside of the defined ellipse\n",
    "x = 10\n",
    "y = 10\n",
    "z = 10\n",
    "\n",
    "# semiaxes values where a < b = c\n",
    "a = 2\n",
    "b = 4\n",
    "c = 4"
   ]
  },
  {
   "cell_type": "code",
   "execution_count": 37,
   "id": "62eca44b-ef28-490d-9c84-8c3eae8d2143",
   "metadata": {},
   "outputs": [],
   "source": [
    "def calculate_lambda(x, y, z, a, b, c): # takes semiaxes and observation coordinates\n",
    "    \n",
    "    \"\"\"\n",
    "    Calculate the value of lambda (parameter defining surfaces in confocal family,\n",
    "    colloquially, the inflation or deflation parameter), for given ellipsoid semiaxes\n",
    "    and given points of observation.\n",
    "    \n",
    "    Parameters\n",
    "    ----------\n",
    "    Semiaxes (length) (integer): a, b, c\n",
    "    Observation coordinates (integer): x, y, z\n",
    "\n",
    "\n",
    "    Returns\n",
    "    -------\n",
    "    lambda (float): the value of lambda.\n",
    "    \n",
    "    \"\"\"\n",
    "    # Calculate lambda using x, y, z \n",
    "  \n",
    "    p_0 = a**2 * b**2 * c**2 - b**2 * c**2 * x**2 - a**2 * b**2 * z**2\n",
    "    p_1 = a**2 * b**2 + b**2 * c**2 + c**2 * a**2 - (b**2 + c**2) * x**2 - (c**2 + a**2) * y**2 - (a**2 + b**2) * z**2\n",
    "    p_2 = a**2 + b**2 + c**2 - x**2 - y**2 - z**2\n",
    "\n",
    "    p = p_1 - (p_2**2)/3 #check - is it just the p_3 term divided by 3?\n",
    "\n",
    "    q = p_0 - ((p_1*p_2)/3) + 2*(p_2/3)**3\n",
    "\n",
    "    theta = np.arccos(-q / (2 * np.sqrt((-p/3)**3))) #check - what is supposed to be included in the sqrt?\n",
    "    \n",
    "    lmbda = 2 * np.sqrt( (-p/3) * np.cos(theta/3) - p_2/3) #check - is the whole term included in the sqrt? Or just p_3?\n",
    "\n",
    "    return lmbda"
   ]
  },
  {
   "cell_type": "code",
   "execution_count": 38,
   "id": "e04f7253-c064-43da-99ed-0ca6308fffc3",
   "metadata": {},
   "outputs": [
    {
     "name": "stdout",
     "output_type": "stream",
     "text": [
      "208.80555674162423\n"
     ]
    }
   ],
   "source": [
    "# rough test: does it run?\n",
    "\n",
    "lambda_test = calculate_lambda(x, y, z, a, b, c)\n",
    "print(lambda_test)\n"
   ]
  },
  {
   "cell_type": "code",
   "execution_count": null,
   "id": "b6726500-ddb6-444f-8afd-11d6cdc87f6a",
   "metadata": {},
   "outputs": [],
   "source": [
    "def calculate_delta_gs(a, b, c, lmbda, density): # takes semiaxes, lambda value, density\n",
    "    \n",
    "    \"\"\"\n",
    "    Calculate the componets of delta_g_i for i=1,2,3.\n",
    "    Calculate the total z component of gravity (?).\n",
    "    \n",
    "    \n",
    "    Parameters\n",
    "    ----------\n",
    "    lambda (float): the parameter defining surfaces in confocal family, for an ellipsoid.\n",
    "    Observation coordinates (integer): x, y, z\n",
    "\n",
    "\n",
    "    Returns\n",
    "    -------\n",
    "    # is this the best way to do this? will individual delta_g components be used later? maybe just return delta_g_z??\n",
    "    \n",
    "    dg1 (float): change in gravity for the x axis. (is this the right explanation?)\n",
    "    dg2 (float): change in gravity for the y axis.\n",
    "    dg3 (float): change in gravity for the z axis.\n",
    "\n",
    "    \"\"\"\n",
    "\n",
    "    # compute the coefficient of the three delta_g equations \n",
    "    numerator = np.pi * a * b**2 * G * density\n",
    "    denominator = (b**2 - a**2)**1.5 \n",
    "    co_eff1 = numerator / denominator\n",
    "\n",
    "    # compute repeated arctan term\n",
    "    arc_tan_term = np.arctan(((b**2 - a**2) / (a**2 + lmbda))**0.5)\n",
    "    \n",
    "    # compute the terms within the brackets for delta_g 1,2,3\n",
    "    bracket_term_g1 = arc_tan_term - ((b**2 - a**2) / (a**2 + lmbda) )**0.5\n",
    "    \n",
    "    bracket_term_g2g3 = ((((b**2 - a**2) * (a**2 + lmbda))**0.5) / (b**2 + lmbda)) - arc_tan_term\n",
    "\n",
    "    # compile constants, coefficients, bracket terms to calculate final value of the delta_g terms\n",
    "    dg1 = 4 * co_eff1 * x * bracket_term_g1\n",
    "    dg2 = 2 * co_eff1 * y * bracket_term_g2g3\n",
    "    dg3 = 2 * co_eff1 * z * bracket_term_g2g3\n",
    "\n",
    "    return dg1, dg2, dg3"
   ]
  },
  {
   "cell_type": "code",
   "execution_count": null,
   "id": "6a83de63-6666-4cea-8c51-5599cf525951",
   "metadata": {},
   "outputs": [],
   "source": [
    "def calculate_oblate_gz(x, y, z, a, b, c): # takes semiaxes and observation coordinates\n",
    "    \n",
    "    \"\"\"\n",
    "    Compute the gravity field at a single point,\n",
    "    given an oblate ellipsoid of uniform density.\n",
    "    \n",
    "    Parameters\n",
    "    ----------\n",
    "    Semiaxes (length) (integer): a, b, c\n",
    "    Observation coordinates (integer): x, y, z\n",
    "\n",
    "\n",
    "    Returns\n",
    "    -------\n",
    "    gz (float): vertical component of gravity, single value for a given 3D cooridnate system.\n",
    "    lambda: ? If needed.\n",
    "    \n",
    "    \"\"\"\n",
    "    # call lambda function and get result\n",
    "    lmbda = calculate_lambda(x, y, z, a, b, c)\n",
    "\n",
    "    # call calculate gz components function and get results\n",
    "\n",
    "    return gz"
   ]
  },
  {
   "cell_type": "markdown",
   "id": "b0f87202-77a7-4f08-ae51-35e69aaa1bbc",
   "metadata": {},
   "source": [
    "NOTES/QUESTIONS/THINGS TO CHECK:\n",
    "\n",
    "- density units - g/cm^3 ??\n",
    "- what does the n1 n2 n3 variables mean?\n",
    "    - pretty sure its to do with the rotation matarix v...can ignore for now? just calculate as the magnitude?\n",
    "- explanation/meaning of the delta_g1/2/3 terms?\n"
   ]
  },
  {
   "cell_type": "code",
   "execution_count": null,
   "id": "1e9d5159-7fdf-4237-ba04-6ac68577b8bf",
   "metadata": {},
   "outputs": [],
   "source": []
  }
 ],
 "metadata": {
  "kernelspec": {
   "display_name": "Python 3 (ipykernel)",
   "language": "python",
   "name": "python3"
  },
  "language_info": {
   "codemirror_mode": {
    "name": "ipython",
    "version": 3
   },
   "file_extension": ".py",
   "mimetype": "text/x-python",
   "name": "python",
   "nbconvert_exporter": "python",
   "pygments_lexer": "ipython3",
   "version": "3.13.3"
  }
 },
 "nbformat": 4,
 "nbformat_minor": 5
}
