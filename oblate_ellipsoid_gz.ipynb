{
 "cells": [
  {
   "cell_type": "code",
   "execution_count": 3,
   "id": "3881ea74-2491-47ab-9305-327c5a9d6004",
   "metadata": {},
   "outputs": [],
   "source": [
    "# imports\n",
    "import numpy as np \n"
   ]
  },
  {
   "cell_type": "markdown",
   "id": "4a91520d-cae1-4a30-a631-46869aa48a2c",
   "metadata": {},
   "source": [
    "### Code for obtaining z component of gravity for the oblate ellipsoid. \n",
    "\n",
    "(the code needs) TO DO:\n",
    "\n",
    "- Takes variables: a, b, c, x, y, z\n",
    "    - a,b,c = ellipsoid parameters - for oblate ellispoid a < b = c\n",
    "    - x, y, z = observation points, LOCAL coordinate system\n",
    "        - make sure the nature of the x, y, z components is clear in docstring to avoid later confusion\n",
    "- Computes the lambda parameter,\n",
    "- Calculate z component gravity using GRAVMOD XIB equations from Clark et al. for oblate ellipsoids.\n",
    "- Perform some sort of casual check\n",
    "    - Eventually, will require a test.\n",
    "- Will return a single component\n",
    "    - A second definition to run this?\n",
    "    - How is it best to store it?\n",
    "    - Calculated within the definition? How complicated is too complicated for a function?"
   ]
  },
  {
   "cell_type": "code",
   "execution_count": 36,
   "id": "9e7ff000-cd21-4e6b-a762-c61cb17b82ab",
   "metadata": {},
   "outputs": [],
   "source": [
    "# variables\n",
    "\n",
    "# dealing with outside the body - x,y,z must be on or outside of the defined ellipse\n",
    "x = 10\n",
    "y = 10\n",
    "z = 10\n",
    "\n",
    "# semiaxes values where a < b = c\n",
    "a = 2\n",
    "b = 4\n",
    "c = 4"
   ]
  },
  {
   "cell_type": "code",
   "execution_count": 37,
   "id": "62eca44b-ef28-490d-9c84-8c3eae8d2143",
   "metadata": {},
   "outputs": [],
   "source": [
    "def calculate_lambda(x, y, z, a, b, c): # takes semiaxes and observation coordinates\n",
    "    \n",
    "    \"\"\"\n",
    "    Calculate the value of lambda (parameter defining surfaces in confocal family,\n",
    "    colloquially, the inflation or deflation parameter), for given ellipsoid semiaxes\n",
    "    and given points of observation.\n",
    "    \n",
    "    Parameters\n",
    "    ----------\n",
    "    Semiaxes (length) (integer): a, b, c\n",
    "    Observation coordinates (integer): x, y, z\n",
    "\n",
    "\n",
    "    Returns\n",
    "    -------\n",
    "    lambda (float): the value of lambda.\n",
    "    \n",
    "    \"\"\"\n",
    "    # Calculate lambda using x, y, z \n",
    "  \n",
    "    p_0 = a**2 * b**2 * c**2 - b**2 * c**2 * x**2 - a**2 * b**2 * z**2\n",
    "    p_1 = a**2 * b**2 + b**2 * c**2 + c**2 * a**2 - (b**2 + c**2) * x**2 - (c**2 + a**2) * y**2 - (a**2 + b**2) * z**2\n",
    "    p_2 = a**2 + b**2 + c**2 - x**2 - y**2 - z**2\n",
    "\n",
    "    p = p_1 - (p_2**2)/3 #check - is it just the p_3 term divided by 3?\n",
    "\n",
    "    q = p_0 - ((p_1*p_2)/3) + 2*(p_2/3)**3\n",
    "\n",
    "    theta = np.arccos(-q / (2 * np.sqrt((-p/3)**3))) #check - what is supposed to be included in the sqrt?\n",
    "    \n",
    "    lmbda = 2 * np.sqrt( (-p/3) * np.cos(theta/3) - p_2/3) #check - is the whole term included in the sqrt? Or just p_3?\n",
    "\n",
    "    return lmbda"
   ]
  },
  {
   "cell_type": "code",
   "execution_count": 38,
   "id": "e04f7253-c064-43da-99ed-0ca6308fffc3",
   "metadata": {},
   "outputs": [
    {
     "name": "stdout",
     "output_type": "stream",
     "text": [
      "208.80555674162423\n"
     ]
    }
   ],
   "source": [
    "# rough test: does it run?\n",
    "\n",
    "lambda_test = calculate_lambda(x, y, z, a, b, c)\n",
    "print(lambda_test)\n"
   ]
  },
  {
   "cell_type": "code",
   "execution_count": null,
   "id": "6a83de63-6666-4cea-8c51-5599cf525951",
   "metadata": {},
   "outputs": [],
   "source": [
    "# functions\n",
    "def calculate_oblate_gz(x, y, z, a, b, c): # takes semiaxes and observation coordinates\n",
    "    \"\"\"\n",
    "    Compute the gravity field at a single point,\n",
    "    given an oblate ellipsoid of uniform density.\n",
    "    \n",
    "    Parameters\n",
    "    ----------\n",
    "    Semiaxes (length) (integer): a, b, c\n",
    "    Observation coordinates (integer): x, y, z\n",
    "\n",
    "\n",
    "    Returns\n",
    "    -------\n",
    "    gz (float): vertical component of gravity, single value for a given 3D cooridnate system.\n",
    "    lambda: ? If needed.\n",
    "    \n",
    "    \"\"\"\n",
    "    "
   ]
  }
 ],
 "metadata": {
  "kernelspec": {
   "display_name": "Python 3 (ipykernel)",
   "language": "python",
   "name": "python3"
  },
  "language_info": {
   "codemirror_mode": {
    "name": "ipython",
    "version": 3
   },
   "file_extension": ".py",
   "mimetype": "text/x-python",
   "name": "python",
   "nbconvert_exporter": "python",
   "pygments_lexer": "ipython3",
   "version": "3.13.3"
  }
 },
 "nbformat": 4,
 "nbformat_minor": 5
}
