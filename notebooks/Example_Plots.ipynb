{
 "cells": [
  {
   "cell_type": "markdown",
   "id": "f6eda586",
   "metadata": {},
   "source": [
    "### Example plots"
   ]
  },
  {
   "cell_type": "code",
   "execution_count": 1,
   "id": "1ddad4be",
   "metadata": {},
   "outputs": [],
   "source": [
    "import functions as fnc\n",
    "import numpy as np\n",
    "import sys\n",
    "import verde as vd\n",
    "from choclo.point import gravity_u as pointgrav\n",
    "import matplotlib.pyplot as plt\n",
    "from matplotlib.patches import Patch\n",
    "from matplotlib import cm\n",
    "from mpl_toolkits.mplot3d import Axes3D\n",
    "np.set_printoptions(threshold=sys.maxsize)\n"
   ]
  },
  {
   "cell_type": "code",
   "execution_count": 2,
   "id": "a3525336",
   "metadata": {},
   "outputs": [],
   "source": [
    "# parameters used throughout plots\n",
    "\n",
    "a, b, c = (4, 3, 2) # triaxial ellipsoid\n",
    "yaw = 90\n",
    "pitch = 0\n",
    "roll = 0\n",
    "n = [1, 2, 3]\n",
    "triaxial_example = fnc.TriaxialEllipsoid(a, b, c, yaw, pitch, roll, (2, 2, 0))\n",
    "triaxial_example2 = fnc.TriaxialEllipsoid(a, b, c, yaw, pitch, roll, (10, 10, 0))\n",
    "density = 2000\n",
    "\n",
    "# define observation points (2D grid) at surface height (z axis, 'Upward') = 5\n",
    "coordinates = vd.grid_coordinates(region = (-20, 20, -20, 20), spacing = 0.5, extra_coords = 5)"
   ]
  },
  {
   "cell_type": "code",
   "execution_count": 12,
   "id": "86e9f41c",
   "metadata": {},
   "outputs": [
    {
     "data": {
      "text/plain": [
       "3"
      ]
     },
     "execution_count": 12,
     "metadata": {},
     "output_type": "execute_result"
    }
   ],
   "source": [
    "len(n)\n"
   ]
  },
  {
   "cell_type": "markdown",
   "id": "32ac0d63",
   "metadata": {},
   "source": [
    "### Colourmaps of gravity components"
   ]
  },
  {
   "cell_type": "code",
   "execution_count": 4,
   "id": "bb163e2f",
   "metadata": {},
   "outputs": [
    {
     "ename": "ValueError",
     "evalue": "Multiple arguments were given for ellipsoids but only one value was given for density.",
     "output_type": "error",
     "traceback": [
      "\u001b[0;31m---------------------------------------------------------------------------\u001b[0m",
      "\u001b[0;31mValueError\u001b[0m                                Traceback (most recent call last)",
      "Cell \u001b[0;32mIn[4], line 1\u001b[0m\n\u001b[0;32m----> 1\u001b[0m ge, gn, gu \u001b[38;5;241m=\u001b[39m fnc\u001b[38;5;241m.\u001b[39mellipsoid_gravity(coordinates, [triaxial_example, triaxial_example2], density\u001b[38;5;241m=\u001b[39m\u001b[38;5;241m2000\u001b[39m)\n",
      "File \u001b[0;32m~/GitHub/2025-baker-ellipsoids/notebooks/functions/projection.py:90\u001b[0m, in \u001b[0;36mellipsoid_gravity\u001b[0;34m(coordinates, ellipsoids, density, field)\u001b[0m\n\u001b[1;32m     88\u001b[0m \u001b[38;5;66;03m# case of multiple ellipsoids but only one density value\u001b[39;00m\n\u001b[1;32m     89\u001b[0m \u001b[38;5;28;01mif\u001b[39;00m \u001b[38;5;28mtype\u001b[39m(ellipsoids) \u001b[38;5;129;01mis\u001b[39;00m \u001b[38;5;28mlist\u001b[39m \u001b[38;5;129;01mand\u001b[39;00m \u001b[38;5;28mtype\u001b[39m(density) \u001b[38;5;129;01mis\u001b[39;00m \u001b[38;5;129;01mnot\u001b[39;00m \u001b[38;5;28mlist\u001b[39m:\n\u001b[0;32m---> 90\u001b[0m     \u001b[38;5;28;01mraise\u001b[39;00m \u001b[38;5;167;01mValueError\u001b[39;00m(\u001b[38;5;124m\"\u001b[39m\u001b[38;5;124mMultiple arguments were given for ellipsoids\u001b[39m\u001b[38;5;124m\"\u001b[39m\n\u001b[1;32m     91\u001b[0m                      \u001b[38;5;124m\"\u001b[39m\u001b[38;5;124m but only one value was given for density.\u001b[39m\u001b[38;5;124m\"\u001b[39m)\n\u001b[1;32m     93\u001b[0m \u001b[38;5;28;01mfor\u001b[39;00m index, ellipsoid \u001b[38;5;129;01min\u001b[39;00m \u001b[38;5;28menumerate\u001b[39m(ellipsoids):\n\u001b[1;32m     94\u001b[0m     \u001b[38;5;66;03m# unpack instances\u001b[39;00m\n\u001b[1;32m     95\u001b[0m     a, b, c \u001b[38;5;241m=\u001b[39m ellipsoid\u001b[38;5;241m.\u001b[39ma, ellipsoid\u001b[38;5;241m.\u001b[39mb, ellipsoid\u001b[38;5;241m.\u001b[39mc\n",
      "\u001b[0;31mValueError\u001b[0m: Multiple arguments were given for ellipsoids but only one value was given for density."
     ]
    }
   ],
   "source": [
    "ge, gn, gu = fnc.ellipsoid_gravity(coordinates, [triaxial_example, triaxial_example2], density=2000)"
   ]
  },
  {
   "cell_type": "code",
   "execution_count": null,
   "id": "d650ef2b",
   "metadata": {},
   "outputs": [],
   "source": [
    "easting, northing = coordinates[:2]\n",
    "fig, (ax1, ax2, ax3) = plt.subplots(nrows=1, ncols=3, sharey=True, figsize=(12, 4))\n",
    "\n",
    "tmp = ax1.pcolormesh(easting, northing, ge)\n",
    "ax1.set_title(\"Easting component\")\n",
    "plt.colorbar(tmp, ax=ax1, label=\"ge\")\n",
    "\n",
    "tmp = ax2.pcolormesh(easting, northing, gn)\n",
    "ax2.set_title(\"Northing component\")\n",
    "plt.colorbar(tmp, ax=ax2, label=\"gn\")\n",
    "\n",
    "tmp = ax3.pcolormesh(easting, northing, gu)\n",
    "ax3.set_title(\"Upward component\")\n",
    "plt.colorbar(tmp, ax=ax3, label=\"gu\")\n",
    "\n",
    "for ax in (ax1, ax2, ax3):\n",
    "    ax.set_aspect(\"equal\")\n",
    "\n",
    "    \n",
    "plt.tight_layout()\n",
    "plt.show()"
   ]
  },
  {
   "cell_type": "markdown",
   "id": "11ec8b00",
   "metadata": {},
   "source": [
    "### Interactive ellipsoid "
   ]
  },
  {
   "cell_type": "code",
   "execution_count": null,
   "id": "1c3d4c4d",
   "metadata": {},
   "outputs": [],
   "source": [
    "%matplotlib notebook\n",
    "\n",
    "V = fnc._get_V_as_Euler(yaw, pitch, roll) # Euler rotation matrix\n",
    "x1, y1, z1 = fnc._generate_basic_ellipsoid(a, b, c) # creates ellipsoid surface\n",
    "local_coords = fnc._global_to_local(x1, y1, z1, 0, V) # rotates ellipsoid surface\n",
    "\n",
    "\n",
    "fig = plt.figure()\n",
    "ax = fig.add_subplot(111, projection='3d')\n",
    "\n",
    "max_radius = max(a, b, c)\n",
    "for axis in 'xyz':\n",
    "    getattr(ax, 'set_{}lim'.format(axis))((-max_radius, max_radius))\n",
    "    \n",
    "ax.plot_surface(x1, y1, z1, color='green', alpha=0.6)\n",
    "ax.plot_surface(local_coords[0], local_coords[1], local_coords[2], color='blue', alpha=0.6)\n",
    "\n",
    "legend_elements = [\n",
    "    Patch(facecolor='green', edgecolor='k', label='Original'),\n",
    "    Patch(facecolor='blue', edgecolor='k', label='Rotated')\n",
    "]\n",
    "ax.legend(handles=legend_elements)\n",
    "\n",
    "ax.set_xlabel('Northing')\n",
    "ax.set_ylabel('Easting')\n",
    "ax.set_zlabel('Upward')"
   ]
  },
  {
   "cell_type": "markdown",
   "id": "e1678953",
   "metadata": {},
   "source": [
    "### Colourmap of upward gravity component "
   ]
  },
  {
   "cell_type": "code",
   "execution_count": null,
   "id": "53b97c0a",
   "metadata": {},
   "outputs": [],
   "source": [
    "e, n, u = coordinates"
   ]
  },
  {
   "cell_type": "code",
   "execution_count": null,
   "id": "dd8399cb",
   "metadata": {},
   "outputs": [],
   "source": [
    "_, _, gu = fnc.ellipsoid_gravity(coordinates, triaxial_example, density=density)"
   ]
  },
  {
   "cell_type": "code",
   "execution_count": null,
   "id": "20ec5154",
   "metadata": {},
   "outputs": [],
   "source": [
    "plt.pcolormesh(e, n, gu)\n",
    "plt.gca().set_aspect(\"equal\")\n",
    "plt.colorbar(label=\"gz\")\n",
    "plt.title(f\"Vertical gravity at constant height {u[0][0]}\")\n",
    "plt.xlabel(\"Easting\")\n",
    "plt.ylabel(\"Northing\")\n",
    "\n",
    "plt.show()"
   ]
  },
  {
   "cell_type": "markdown",
   "id": "a41b8fc8",
   "metadata": {},
   "source": [
    "### Decay comparison of ellipsoid body and point mass"
   ]
  },
  {
   "cell_type": "code",
   "execution_count": null,
   "id": "74b87546",
   "metadata": {},
   "outputs": [],
   "source": [
    " # plot decay when moving along the z-axis\n",
    "z = np.linspace(c, 10*c**2, 50)\n",
    "x = y = np.zeros_like(z)\n",
    "\n",
    "# lists to hold variables\n",
    "gz = []\n",
    "point_gz = []\n",
    "\n",
    "# calculate ellipsoid mass\n",
    "ellipsoid_mass =  density * 4/3 * np.pi * a * b * c"
   ]
  },
  {
   "cell_type": "code",
   "execution_count": null,
   "id": "3d44654d",
   "metadata": {},
   "outputs": [],
   "source": [
    "_, _, gu = fnc.ellipsoid_gravity((x, y, z), triaxial_example, density=density)"
   ]
  },
  {
   "cell_type": "code",
   "execution_count": null,
   "id": "41c25a44",
   "metadata": {},
   "outputs": [],
   "source": [
    "for i in range(len(x)):\n",
    "        point_grav = pointgrav(x[i], y[i], z[i], 0, 0, 0, ellipsoid_mass)\n",
    "        point_gz.append(point_grav)\n"
   ]
  },
  {
   "cell_type": "code",
   "execution_count": null,
   "id": "4dd180da",
   "metadata": {},
   "outputs": [],
   "source": [
    "# plotting\n",
    "fig, axs = plt.subplots(1, 2, figsize=(12, 6), sharex=True)\n",
    "\n",
    "# plot 1: gravity decay of the two models\n",
    "axs[0].set_title(\"Comparing ellipsoid gravity to point mass gravity at distance\")\n",
    "axs[0].plot(z, np.abs(gu), color='blue', label='Ellipsoid decay')\n",
    "axs[0].plot(z, np.abs(point_gz), color='red', label='Point mass decay')\n",
    "axs[0].set_ylabel('Gravity (m/s²)')\n",
    "axs[0].set_xlabel('Distance from source (surface) (m)')\n",
    "axs[0].legend()\n",
    "axs[0].grid(alpha=0.3)\n",
    "\n",
    "# plot 2: difference between the gravity models\n",
    "axs[1].set_title(\"Difference between ellipsoid and point mass gravity\")\n",
    "axs[1].plot(z, np.abs(gu) - np.abs(point_gz), color='purple', label='Difference')\n",
    "axs[1].set_xlabel('Distance from source (surface) (m)')\n",
    "axs[1].set_ylabel('Change in gravity (m/s²)')\n",
    "axs[1].grid(alpha=0.3)\n",
    "\n",
    "plt.tight_layout()\n",
    "plt.show()"
   ]
  },
  {
   "cell_type": "code",
   "execution_count": null,
   "id": "da20d74b",
   "metadata": {},
   "outputs": [],
   "source": []
  }
 ],
 "metadata": {
  "kernelspec": {
   "display_name": "Python 3 (ipykernel)",
   "language": "python",
   "name": "python3"
  },
  "language_info": {
   "codemirror_mode": {
    "name": "ipython",
    "version": 3
   },
   "file_extension": ".py",
   "mimetype": "text/x-python",
   "name": "python",
   "nbconvert_exporter": "python",
   "pygments_lexer": "ipython3",
   "version": "3.11.8"
  }
 },
 "nbformat": 4,
 "nbformat_minor": 5
}
