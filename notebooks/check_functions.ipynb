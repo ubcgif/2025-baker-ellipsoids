{
 "cells": [
  {
   "cell_type": "code",
   "execution_count": 82,
   "id": "1ddad4be",
   "metadata": {},
   "outputs": [],
   "source": [
    "from functions.utils import calculate_lambda\n",
    "from functions.get_gravity_ellipsoids import calculate_delta_gs_oblate\n",
    "\n",
    "lmbda = calculate_lambda(5, 5, 5, 2, 4, 4)"
   ]
  },
  {
   "cell_type": "code",
   "execution_count": 83,
   "id": "aaacab48",
   "metadata": {},
   "outputs": [
    {
     "ename": "NameError",
     "evalue": "name 'calculate_lambda' is not defined",
     "output_type": "error",
     "traceback": [
      "\u001b[0;31m---------------------------------------------------------------------------\u001b[0m",
      "\u001b[0;31mNameError\u001b[0m                                 Traceback (most recent call last)",
      "Cell \u001b[0;32mIn[83], line 1\u001b[0m\n\u001b[0;32m----> 1\u001b[0m dg1_ob, dg2_ob, dg3_ob \u001b[38;5;241m=\u001b[39m calculate_delta_gs_oblate(\u001b[38;5;241m10\u001b[39m, \u001b[38;5;241m0\u001b[39m, \u001b[38;5;241m0\u001b[39m, \u001b[38;5;241m2\u001b[39m, \u001b[38;5;241m4\u001b[39m, \u001b[38;5;241m4\u001b[39m, density \u001b[38;5;241m=\u001b[39m \u001b[38;5;241m1000\u001b[39m)\n",
      "File \u001b[0;32m~/GitHub/2025-baker-ellipsoids/notebooks/functions/get_gravity_ellipsoids.py:32\u001b[0m, in \u001b[0;36mcalculate_delta_gs_oblate\u001b[0;34m(x, y, z, a, b, c, density)\u001b[0m\n\u001b[1;32m     30\u001b[0m \n\u001b[1;32m     31\u001b[0m     # call and use lambda function \n\u001b[0;32m---> 32\u001b[0m     lmbda = calculate_lambda(x, y, z, a, b, c)\n\u001b[1;32m     33\u001b[0m     \n\u001b[1;32m     34\u001b[0m     # check the function is used for the correct type of ellipsoid\n",
      "\u001b[0;31mNameError\u001b[0m: name 'calculate_lambda' is not defined"
     ]
    }
   ],
   "source": [
    "dg1_ob, dg2_ob, dg3_ob = calculate_delta_gs_oblate(10, 0, 0, 2, 4, 4, density = 1000)"
   ]
  },
  {
   "cell_type": "code",
   "execution_count": null,
   "id": "5b69af53",
   "metadata": {},
   "outputs": [],
   "source": []
  }
 ],
 "metadata": {
  "kernelspec": {
   "display_name": "Python 3 (ipykernel)",
   "language": "python",
   "name": "python3"
  },
  "language_info": {
   "codemirror_mode": {
    "name": "ipython",
    "version": 3
   },
   "file_extension": ".py",
   "mimetype": "text/x-python",
   "name": "python",
   "nbconvert_exporter": "python",
   "pygments_lexer": "ipython3",
   "version": "3.11.8"
  }
 },
 "nbformat": 4,
 "nbformat_minor": 5
}
