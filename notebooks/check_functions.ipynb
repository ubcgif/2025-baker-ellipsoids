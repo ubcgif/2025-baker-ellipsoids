{
 "cells": [
  {
   "cell_type": "code",
   "execution_count": 1,
   "id": "1ddad4be",
   "metadata": {},
   "outputs": [],
   "source": [
    "from functions import calculate_lambda\n",
    "from functions import calculate_delta_gs_oblate\n",
    "\n",
    "lmbda = calculate_lambda(5, 5, 5, 2, 4, 4)"
   ]
  },
  {
   "cell_type": "code",
   "execution_count": 2,
   "id": "aaacab48",
   "metadata": {},
   "outputs": [],
   "source": [
    "dg1_ob, dg2_ob, dg3_ob = calculate_delta_gs_oblate(10, 0, 0, 2, 4, 4, density = 1000)"
   ]
  },
  {
   "cell_type": "code",
   "execution_count": null,
   "id": "5b69af53",
   "metadata": {},
   "outputs": [],
   "source": []
  }
 ],
 "metadata": {
  "kernelspec": {
   "display_name": "Python 3 (ipykernel)",
   "language": "python",
   "name": "python3"
  },
  "language_info": {
   "codemirror_mode": {
    "name": "ipython",
    "version": 3
   },
   "file_extension": ".py",
   "mimetype": "text/x-python",
   "name": "python",
   "nbconvert_exporter": "python",
   "pygments_lexer": "ipython3",
   "version": "3.11.8"
  }
 },
 "nbformat": 4,
 "nbformat_minor": 5
}
